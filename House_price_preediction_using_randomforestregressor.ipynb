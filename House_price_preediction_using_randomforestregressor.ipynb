{
  "nbformat": 4,
  "nbformat_minor": 0,
  "metadata": {
    "colab": {
      "provenance": [],
      "authorship_tag": "ABX9TyPk7TsZglAa04SGvQGP5JAa",
      "include_colab_link": true
    },
    "kernelspec": {
      "name": "python3",
      "display_name": "Python 3"
    },
    "language_info": {
      "name": "python"
    }
  },
  "cells": [
    {
      "cell_type": "markdown",
      "metadata": {
        "id": "view-in-github",
        "colab_type": "text"
      },
      "source": [
        "<a href=\"https://colab.research.google.com/github/sanjanb/Machine-Learning-basics/blob/main/House_price_preediction_using_randomforestregressor.ipynb\" target=\"_parent\"><img src=\"https://colab.research.google.com/assets/colab-badge.svg\" alt=\"Open In Colab\"/></a>"
      ]
    },
    {
      "cell_type": "code",
      "execution_count": 2,
      "metadata": {
        "id": "j2Zst3vYOEDQ"
      },
      "outputs": [],
      "source": [
        "# import the libraries\n",
        "from sklearn.datasets import fetch_california_housing\n",
        "from sklearn.model_selection import train_test_split\n",
        "import numpy as np\n",
        "from sklearn.ensemble import RandomForestRegressor\n",
        "from sklearn.metrics import mean_squared_error, r2_score\n",
        "import pandas as pd\n",
        "\n",
        "# load the data\n",
        "california = fetch_california_housing()\n",
        "df = pd.DataFrame(california.data, columns=california.feature_names)\n",
        "df['MedHouseval'] = california.target\n",
        "\n",
        "x = df.drop(columns=['MedHouseval']) # Change 'column' to 'columns'\n",
        "y = df['MedHouseval']\n",
        "\n",
        "# split the data\n",
        "x_train, x_test, y_train, y_test = train_test_split(x, y, test_size=0.2, random_state=42)\n",
        "\n",
        "# Train the model\n",
        "model = RandomForestRegressor(n_estimators=100)\n",
        "model.fit(x_train, y_train)\n",
        "# Make predictions\n",
        "y_pred = model.predict(x_test)\n",
        ""
      ]
    }
  ]
}