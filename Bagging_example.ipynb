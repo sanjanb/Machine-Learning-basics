{
  "nbformat": 4,
  "nbformat_minor": 0,
  "metadata": {
    "colab": {
      "provenance": [],
      "authorship_tag": "ABX9TyNkoAeWFdjZavH8cDQufcAR",
      "include_colab_link": true
    },
    "kernelspec": {
      "name": "python3",
      "display_name": "Python 3"
    },
    "language_info": {
      "name": "python"
    }
  },
  "cells": [
    {
      "cell_type": "markdown",
      "metadata": {
        "id": "view-in-github",
        "colab_type": "text"
      },
      "source": [
        "<a href=\"https://colab.research.google.com/github/sanjanb/Machine-Learning-basics/blob/main/Bagging_example.ipynb\" target=\"_parent\"><img src=\"https://colab.research.google.com/assets/colab-badge.svg\" alt=\"Open In Colab\"/></a>"
      ]
    },
    {
      "cell_type": "code",
      "execution_count": 1,
      "metadata": {
        "id": "16-c8F3exiNe",
        "colab": {
          "base_uri": "https://localhost:8080/"
        },
        "outputId": "0394f58d-000a-4546-faff-edcbece5eb96"
      },
      "outputs": [
        {
          "output_type": "stream",
          "name": "stdout",
          "text": [
            "Random Forest Accuracy :  1.0\n"
          ]
        }
      ],
      "source": [
        "import numpy as np\n",
        "import pandas as pd\n",
        "from sklearn.model_selection import train_test_split\n",
        "from sklearn.ensemble import RandomForestClassifier\n",
        "from sklearn.metrics import accuracy_score\n",
        "\n",
        "#load dataset\n",
        "from sklearn.datasets import load_iris\n",
        "data = load_iris()\n",
        "x = data.data\n",
        "y = data.target\n",
        "\n",
        "# split datasets\n",
        "X_train, X_test, y_train, y_test = train_test_split(x, y, test_size=0.2, random_state=42)\n",
        "\n",
        "# Bagging - parallel\n",
        "rf_model = RandomForestClassifier(n_estimators=100, random_state=42)\n",
        "rf_model.fit(X_train, y_train)\n",
        "rf_preds = rf_model.predict(X_test)\n",
        "print(\"Random Forest Accuracy : \", accuracy_score(y_test, rf_preds))"
      ]
    },
    {
      "cell_type": "markdown",
      "source": [
        "# Boosting - sequential, learn from mistakes\n",
        "### types - ada, gradient, XGBoost\n"
      ],
      "metadata": {
        "id": "uj09YYD_6cJs"
      }
    },
    {
      "cell_type": "code",
      "source": [
        "# AdaBoosting\n",
        "from sklearn.ensemble import AdaBoostClassifier, GradientBoostingClassifier, StackingClassifier\n",
        "ada_model = AdaBoostClassifier(n_estimators=50, random_state=42)\n",
        "ada_model.fit(X_train, y_train)\n",
        "ada_preds = ada_model.predict(X_test)\n",
        "print('Ada Boost accuracy:', accuracy_score(y_test, ada_preds))"
      ],
      "metadata": {
        "colab": {
          "base_uri": "https://localhost:8080/"
        },
        "id": "JaQoLjrk5WLJ",
        "outputId": "bb40dfda-b9d7-41dc-d20d-ed1484d9bab4"
      },
      "execution_count": 2,
      "outputs": [
        {
          "output_type": "stream",
          "name": "stdout",
          "text": [
            "Ada Boost accuracy: 1.0\n"
          ]
        }
      ]
    },
    {
      "cell_type": "code",
      "source": [
        "# Gradient Boosting\n",
        "gb_model = GradientBoostingClassifier(n_estimators=100, random_state=42)\n",
        "gb_model.fit(X_train, y_train)\n",
        "gb_preds = gb_model.predict(X_test)\n",
        "print('Gradient Boost accuracy:', accuracy_score(y_test, gb_preds))"
      ],
      "metadata": {
        "colab": {
          "base_uri": "https://localhost:8080/"
        },
        "id": "VDgKftJp6X50",
        "outputId": "6e594492-d683-4364-ac04-bfa8d0308e48"
      },
      "execution_count": 3,
      "outputs": [
        {
          "output_type": "stream",
          "name": "stdout",
          "text": [
            "Gradient Boost accuracy: 1.0\n"
          ]
        }
      ]
    },
    {
      "cell_type": "code",
      "source": [
        "# XGBoost\n",
        "from xgboost import XGBClassifier\n",
        "xgb_model = XGBClassifier(eval_metric='mlogloss', random_state=42, n_estimators=100)\n",
        "xgb_model.fit(X_train, y_train)\n",
        "xgb_preds = xgb_model.predict(X_test)\n",
        "print('XGBoost accuracy:', accuracy_score(y_test, xgb_preds))"
      ],
      "metadata": {
        "colab": {
          "base_uri": "https://localhost:8080/"
        },
        "id": "zjqAyn_C6g7-",
        "outputId": "47fdf64d-a1bc-4294-971d-647738a516b5"
      },
      "execution_count": 4,
      "outputs": [
        {
          "output_type": "stream",
          "name": "stdout",
          "text": [
            "XGBoost accuracy: 1.0\n"
          ]
        }
      ]
    },
    {
      "cell_type": "code",
      "source": [
        "# Stacking\n",
        "from sklearn.linear_model import LogisticRegression\n",
        "from sklearn.ensemble import StackingClassifier, RandomForestClassifier, GradientBoostingClassifier # Import StackingClassifier\n",
        "from xgboost import XGBClassifier\n",
        "# Import necessary libraries\n",
        "\n",
        "base_models = [\n",
        "    ('rf', RandomForestClassifier(n_estimators=100, random_state=42)),\n",
        "    ('gb', GradientBoostingClassifier(n_estimators=100, random_state=42)),\n",
        "    ('xgb', XGBClassifier(n_estimators=100, random_state=42, eval_metric='logloss')) # Change eval_metric to 'logloss'\n",
        "]\n",
        "meta_model = LogisticRegression()\n",
        "stacking_model = StackingClassifier(estimators=base_models, final_estimator=meta_model)\n",
        "stacking_model.fit(X_train, y_train)\n",
        "stacking_preds = stacking_model.predict(X_test)\n",
        "print('Stacking accuracy:', accuracy_score(y_test, stacking_preds))"
      ],
      "metadata": {
        "colab": {
          "base_uri": "https://localhost:8080/"
        },
        "id": "J9_IxGbD7MSh",
        "outputId": "ee73405b-ca92-49d6-d275-1f1dca256470"
      },
      "execution_count": 5,
      "outputs": [
        {
          "output_type": "stream",
          "name": "stdout",
          "text": [
            "Stacking accuracy: 1.0\n"
          ]
        }
      ]
    }
  ]
}