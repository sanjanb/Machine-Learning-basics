{
  "nbformat": 4,
  "nbformat_minor": 0,
  "metadata": {
    "colab": {
      "provenance": [],
      "authorship_tag": "ABX9TyM68sTn58OSUpUZK5G1SP9K",
      "include_colab_link": true
    },
    "kernelspec": {
      "name": "python3",
      "display_name": "Python 3"
    },
    "language_info": {
      "name": "python"
    }
  },
  "cells": [
    {
      "cell_type": "markdown",
      "metadata": {
        "id": "view-in-github",
        "colab_type": "text"
      },
      "source": [
        "<a href=\"https://colab.research.google.com/github/sanjanb/Machine-Learning-basics/blob/main/Feature_selection.ipynb\" target=\"_parent\"><img src=\"https://colab.research.google.com/assets/colab-badge.svg\" alt=\"Open In Colab\"/></a>"
      ]
    },
    {
      "cell_type": "markdown",
      "source": [
        "# **Feature selection - Wrapper method**\n",
        "recursive feature elimination"
      ],
      "metadata": {
        "id": "v0t4Rml0MxcR"
      }
    },
    {
      "cell_type": "code",
      "execution_count": 4,
      "metadata": {
        "colab": {
          "base_uri": "https://localhost:8080/"
        },
        "id": "nM5EGli7HNDY",
        "outputId": "b2466773-868c-4f84-ff67-0848aea62c89"
      },
      "outputs": [
        {
          "output_type": "stream",
          "name": "stdout",
          "text": [
            "Warning: Looks like you're using an outdated `kagglehub` version (installed: 0.3.6), please consider upgrading to the latest version (0.3.7).\n",
            "Path to dataset files: /root/.cache/kagglehub/datasets/johnsmith88/heart-disease-dataset/versions/2\n",
            "Num Features: 5\n",
            "Selected Features: [False  True False False False  True  True  True False False  True False\n",
            " False]\n",
            "Feature Ranking: [6 1 7 3 8 1 1 1 4 5 1 9 2]\n"
          ]
        }
      ],
      "source": [
        "from sklearn.feature_selection import RFE\n",
        "from sklearn.linear_model import LogisticRegression\n",
        "from sklearn.preprocessing import StandardScaler\n",
        "from sklearn.model_selection import train_test_split\n",
        "import numpy as np\n",
        "import pandas as pd\n",
        "import os\n",
        "import kagglehub\n",
        "\n",
        "# Download latest version\n",
        "path = kagglehub.dataset_download(\"johnsmith88/heart-disease-dataset\")\n",
        "\n",
        "print(\"Path to dataset files:\", path)\n",
        "\n",
        "# Find the CSV file within the downloaded directory\n",
        "for filename in os.listdir(path):\n",
        "    if filename.endswith(\".csv\"):\n",
        "        csv_file_path = os.path.join(path, filename)\n",
        "        break  # Stop after finding the first CSV file\n",
        "\n",
        "# Read the CSV file using the corrected file path\n",
        "df = pd.read_csv(csv_file_path)\n",
        "\n",
        "# Example prepocessing (scaling)\n",
        "# Separate features (X) and target (y)\n",
        "X = df.drop('age', axis=1)  # Use capital X for features\n",
        "y = df['age']\n",
        "\n",
        "# Create a StandardScaler instance\n",
        "scaler = StandardScaler()  # Assign scaler to a different variable\n",
        "\n",
        "# Fit and transform the features\n",
        "X_scaled = scaler.fit_transform(X)  # Apply scaling to the features data\n",
        "\n",
        "# Initialize logistic regression with max_iter increased\n",
        "model = LogisticRegression(max_iter=1000)\n",
        "# Apply RFE\n",
        "rfe = RFE(model, n_features_to_select=5)\n",
        "fit = rfe.fit(X_scaled, y)  # Use scaled features for RFE\n",
        "\n",
        "print(\"Num Features: %d\" % fit.n_features_)\n",
        "print(\"Selected Features: %s\" % fit.support_)\n",
        "print(\"Feature Ranking: %s\" % fit.ranking_)"
      ]
    },
    {
      "cell_type": "code",
      "source": [
        "# forward and bacjward feature selection\n",
        "from mlxtend.feature_selection import SequentialFeatureSelector as SFS\n",
        "from sklearn.ensemble import RandomForestClassifier\n",
        "\n",
        "model = RandomForestClassifier()\n",
        "sfs = SFS(model, k_features=5, forward=True, verbose=2, scoring='accuracy', cv=5)\n",
        "sfs = sfs.fit(df.drop('target', axis=1), df['target'])\n",
        "print('Best accuracy score: %.2f' % sfs.k_score_)\n",
        "print('Best subset (indices):', sfs.k_feature_idx_)\n",
        "print('Best subset (corresponding names):', sfs.k_feature_names_)"
      ],
      "metadata": {
        "colab": {
          "base_uri": "https://localhost:8080/"
        },
        "id": "34dMrkatP4Sm",
        "outputId": "90ad9e24-dbd3-4887-e158-dc4fba378f34"
      },
      "execution_count": 6,
      "outputs": [
        {
          "output_type": "stream",
          "name": "stderr",
          "text": [
            "\n",
            "[2025-02-08 06:38:29] Features: 1/5 -- score: 0.76\n",
            "[2025-02-08 06:38:41] Features: 2/5 -- score: 0.8965853658536587\n",
            "[2025-02-08 06:38:53] Features: 3/5 -- score: 0.9941463414634146\n",
            "[2025-02-08 06:39:06] Features: 4/5 -- score: 0.9941463414634146"
          ]
        },
        {
          "output_type": "stream",
          "name": "stdout",
          "text": [
            "Best accuracy score: 1.00\n",
            "Best subset (indices): (0, 2, 4, 7, 10)\n",
            "Best subset (corresponding names): ('age', 'cp', 'chol', 'thalach', 'slope')\n"
          ]
        },
        {
          "output_type": "stream",
          "name": "stderr",
          "text": [
            "\n",
            "[2025-02-08 06:39:18] Features: 5/5 -- score: 0.9970731707317073"
          ]
        }
      ]
    }
  ]
}