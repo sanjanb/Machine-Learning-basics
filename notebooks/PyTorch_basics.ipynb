{
  "nbformat": 4,
  "nbformat_minor": 0,
  "metadata": {
    "colab": {
      "provenance": [],
      "collapsed_sections": [
        "dI12X8tUHqYm"
      ],
      "authorship_tag": "ABX9TyN6C4VAGyipCPRQJ1C2JdUH",
      "include_colab_link": true
    },
    "kernelspec": {
      "name": "python3",
      "display_name": "Python 3"
    },
    "language_info": {
      "name": "python"
    }
  },
  "cells": [
    {
      "cell_type": "markdown",
      "metadata": {
        "id": "view-in-github",
        "colab_type": "text"
      },
      "source": [
        "<a href=\"https://colab.research.google.com/github/sanjanb/Machine-Learning-basics/blob/main/PyTorch_basics.ipynb\" target=\"_parent\"><img src=\"https://colab.research.google.com/assets/colab-badge.svg\" alt=\"Open In Colab\"/></a>"
      ]
    },
    {
      "cell_type": "markdown",
      "source": [
        "# **Introduction to PyTorch**\n",
        "Simple Operations\n"
      ],
      "metadata": {
        "id": "dI12X8tUHqYm"
      }
    },
    {
      "cell_type": "code",
      "execution_count": null,
      "metadata": {
        "id": "Svy88TOAGpwL",
        "colab": {
          "base_uri": "https://localhost:8080/"
        },
        "outputId": "e696c2c3-3f0e-406c-a25a-3b4e4e3f4933"
      },
      "outputs": [
        {
          "output_type": "stream",
          "name": "stdout",
          "text": [
            "Scalar: tensor(7)\n",
            "Vector: tensor([1, 2, 3])\n",
            "Matrix: tensor([[1, 2, 3],\n",
            "        [4, 5, 6]])\n",
            "Tensor: tensor([[0.6386, 0.7066, 0.4180],\n",
            "        [0.7298, 0.5886, 0.6030],\n",
            "        [0.3459, 0.4578, 0.5577]])\n",
            "Addition:\n",
            " tensor([[ 6,  8],\n",
            "        [10, 12]])\n",
            "Matrix multiplitcation:\n",
            " tensor([[19, 22],\n",
            "        [43, 50]])\n",
            "shape: torch.Size([3, 3])\n",
            "Data type: torch.float32\n"
          ]
        }
      ],
      "source": [
        "import torch\n",
        "\n",
        "# Tensor creation\n",
        "scalar = torch.tensor(7)\n",
        "vector = torch.tensor([1,2,3])\n",
        "matrix = torch.tensor([[1,2,3],[4,5,6]])\n",
        "tensor = torch.rand((3,3))\n",
        "\n",
        "print(\"Scalar:\", scalar)\n",
        "print(\"Vector:\", vector)\n",
        "print(\"Matrix:\", matrix)\n",
        "print(\"Tensor:\", tensor)\n",
        "\n",
        "# Tensor operation\n",
        "a = torch.tensor([[1,2],[3,4]])\n",
        "b = torch.tensor([[5,6],[7,8]])\n",
        "print(\"Addition:\\n\",a+b)\n",
        "print(\"Matrix multiplitcation:\\n\", torch.matmul(a,b))\n",
        "\n",
        "# Tensor attributes\n",
        "print(\"shape:\",tensor.shape)\n",
        "print(\"Data type:\", tensor.dtype)\n",
        "\n"
      ]
    },
    {
      "cell_type": "markdown",
      "source": [
        "# **Pytorch Autograd**\n",
        "### Automatic differenciation"
      ],
      "metadata": {
        "id": "as3VF9Z5J9ve"
      }
    },
    {
      "cell_type": "code",
      "source": [
        "x = torch.tensor(2.0, requires_grad=True)\n",
        "y = x**3+2*x**2+1\n",
        "\n",
        "# Compute gradients\n",
        "y.backward()\n",
        "print(\"Gradient of y with respect to x:\", x.grad)\n",
        "\n",
        "# Gradient accumulation\n",
        "x = torch.tensor([1.0, 2.0, 3.0], requires_grad = True)\n",
        "y = x**2 + 3\n",
        "z = y.sum()\n",
        "z.backward()\n",
        "print(\"Gradients:\", x.grad)"
      ],
      "metadata": {
        "colab": {
          "base_uri": "https://localhost:8080/"
        },
        "id": "MNOSUK2wJ7w6",
        "outputId": "6b3fc8b0-7eb7-4395-f188-14fe54adccf2"
      },
      "execution_count": null,
      "outputs": [
        {
          "output_type": "stream",
          "name": "stdout",
          "text": [
            "Gradient of y with respect to x: tensor(20.)\n",
            "Gradients: tensor([2., 4., 6.])\n"
          ]
        }
      ]
    },
    {
      "cell_type": "code",
      "source": [
        "from os import pread\n",
        "# Building and training a regression model\n",
        "import numpy as np\n",
        "import torch\n",
        "\n",
        "# Generate synthetic data\n",
        "x = np.random.rand(100,1).astype(np.float32)\n",
        "# Convert data to PyTorch tensors before using it in the equation below.\n",
        "X = torch.from_numpy(x)\n",
        "# Calculate y using X, which is now a PyTorch tensor.\n",
        "y = 3* X + 7 + torch.from_numpy(np.random.normal(0, 0.1, (100, 1)).astype(np.float32))\n",
        "Y = y\n",
        "\n",
        "# Define a linear regression model\n",
        "class LinearRegression(torch.nn.Module):\n",
        "    def __init__(self):\n",
        "        super(LinearRegression, self).__init__()\n",
        "        self.linear = torch.nn.Linear(1,1)\n",
        "\n",
        "    def forward(self, x):\n",
        "        return self.linear(x)\n",
        "\n",
        "model = LinearRegression()\n",
        "\n",
        "# Define loss and optimizer\n",
        "criterion = torch.nn.MSELoss()\n",
        "optimizer = torch.optim.SGD(model.parameters(), lr=0.01)\n",
        "\n",
        "# Training loop\n",
        "epochs = 100\n",
        "for epoch in range(epochs):\n",
        "  # Forward pass\n",
        "  predictions = model(X)\n",
        "  loss = criterion(predictions, Y)\n",
        "\n",
        "  # Backward pass and optimization\n",
        "  optimizer.zero_grad()\n",
        "  loss.backward()\n",
        "  optimizer.step()\n",
        "\n",
        "  if (epoch+1) % 10 == 0:\n",
        "    print(f\"epoch {epoch}, Loss: {loss.item()}\")\n",
        "\n",
        "# Plot results\n",
        "import matplotlib.pyplot as plt\n",
        "with torch.no_grad():\n",
        "  plt.scatter(x, y.numpy(), label='Data')\n",
        "  plt.plot(x, model(X).detach().numpy(), label='Regression')\n",
        "  plt.legend()\n",
        "  plt.show()"
      ],
      "metadata": {
        "id": "ZFhALklNMPuZ",
        "colab": {
          "base_uri": "https://localhost:8080/",
          "height": 604
        },
        "outputId": "5d475913-331d-4220-dcf0-8267334c1ee7"
      },
      "execution_count": 11,
      "outputs": [
        {
          "output_type": "stream",
          "name": "stdout",
          "text": [
            "epoch 9, Loss: 41.618690490722656\n",
            "epoch 19, Loss: 24.879350662231445\n",
            "epoch 29, Loss: 14.881577491760254\n",
            "epoch 39, Loss: 8.910099029541016\n",
            "epoch 49, Loss: 5.343263626098633\n",
            "epoch 59, Loss: 3.212573766708374\n",
            "epoch 69, Loss: 1.9396060705184937\n",
            "epoch 79, Loss: 1.1789110898971558\n",
            "epoch 89, Loss: 0.7241750359535217\n",
            "epoch 99, Loss: 0.4521758258342743\n"
          ]
        },
        {
          "output_type": "display_data",
          "data": {
            "text/plain": [
              "<Figure size 640x480 with 1 Axes>"
            ],
            "image/png": "[encoded data removed]"
          },
          "metadata": {}
        }
      ]
    }
  ]
}