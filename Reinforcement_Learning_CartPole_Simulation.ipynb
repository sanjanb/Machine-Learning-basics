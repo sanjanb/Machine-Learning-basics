{
  "nbformat": 4,
  "nbformat_minor": 0,
  "metadata": {
    "colab": {
      "provenance": [],
      "authorship_tag": "ABX9TyMpb83HAbdLTlmI/W/WArh7",
      "include_colab_link": true
    },
    "kernelspec": {
      "name": "python3",
      "display_name": "Python 3"
    },
    "language_info": {
      "name": "python"
    }
  },
  "cells": [
    {
      "cell_type": "markdown",
      "metadata": {
        "id": "view-in-github",
        "colab_type": "text"
      },
      "source": [
        "<a href=\"https://colab.research.google.com/github/sanjanb/Machine-Learning-basics/blob/main/Reinforcement_Learning_CartPole_Simulation.ipynb\" target=\"_parent\"><img src=\"https://colab.research.google.com/assets/colab-badge.svg\" alt=\"Open In Colab\"/></a>"
      ]
    },
    {
      "cell_type": "markdown",
      "source": [
        "**1. OpenAI Gym**\n",
        "\n",
        "OpenAI Gym is a toolkit for developing and comparing reinforcement learning (RL) algorithms. It provides a collection of predefined environments for RL experimentation.\n",
        "\n",
        "**2. CartPole Environment**\n",
        "\n",
        "The CartPole problem is a classic control problem where the goal is to balance a pole on a moving cart. The environment provides observations (states), takes actions, and gives rewards based on how well the pole remains balanced.\n",
        "\n",
        "**3. Reinforcement Learning Terms**\n",
        "\n",
        "* Observation (obs): The state representation of the environment.\n",
        "\n",
        "* Action (action): A decision taken by the agent.\n",
        "\n",
        "* Reward (reward): A score given by the environment to guide learning.\n",
        "\n",
        "* Episode: A complete sequence of state transitions until termination.\n",
        "\n"
      ],
      "metadata": {
        "id": "QrE399xgahqB"
      }
    },
    {
      "cell_type": "code",
      "execution_count": null,
      "metadata": {
        "colab": {
          "base_uri": "https://localhost:8080/"
        },
        "id": "FlOLVqR3SeOy",
        "outputId": "249a540c-3347-4c35-db8e-02c332b62859"
      },
      "outputs": [
        {
          "output_type": "stream",
          "name": "stdout",
          "text": [
            "Episode 1 starting...\n",
            "Episode 1 ended with total reward 43.0\n",
            "Episode 2 starting...\n",
            "Episode 2 ended with total reward 21.0\n",
            "Episode 3 starting...\n",
            "Episode 3 ended with total reward 12.0\n",
            "Episode 4 starting...\n",
            "Episode 4 ended with total reward 23.0\n",
            "Episode 5 starting...\n",
            "Episode 5 ended with total reward 10.0\n"
          ]
        }
      ],
      "source": [
        "import gym\n",
        "import numpy as np\n",
        "import time\n",
        "\n",
        "# Create a openAI gym env\n",
        "env = gym.make('CartPole-v0')\n",
        "\n",
        "# Number of episodes to run\n",
        "num_episodes = 5\n",
        "\n",
        "for episode in range(num_episodes):\n",
        "  obs = env.reset()\n",
        "  done = False\n",
        "  total_reward = 0\n",
        "  print(f\"Episode {episode + 1} starting...\")\n",
        "  while not done:\n",
        "    env.render()\n",
        "    action = env.action_space.sample()\n",
        "    obs, reward, done, info = env.step(action)\n",
        "    total_reward += reward\n",
        "    time.sleep(0.05)\n",
        "  print(f\"Episode {episode + 1} ended with total reward {total_reward}\")\n",
        "\n",
        "env.close()"
      ]
    }
  ]
}